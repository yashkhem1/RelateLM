{
 "cells": [
  {
   "cell_type": "markdown",
   "metadata": {},
   "source": [
    "# Used to expand a BERT-style checkpoint if it doesn't have enough \"unused\" token required to expand the vocab"
   ]
  },
  {
   "cell_type": "markdown",
   "metadata": {},
   "source": [
    "### Note: Restart the Kernel after every model reassignment\n",
    "###       Use Tensorflow v1 for this notebook"
   ]
  },
  {
   "cell_type": "code",
   "execution_count": null,
   "metadata": {},
   "outputs": [],
   "source": [
    "from __future__ import absolute_import\n",
    "from __future__ import division\n",
    "from __future__ import print_function\n",
    "\n",
    "import os\n",
    "import tensorflow as tf\n",
    "import numpy as np"
   ]
  },
  {
   "cell_type": "markdown",
   "metadata": {},
   "source": [
    "#### Parameters for training"
   ]
  },
  {
   "cell_type": "code",
   "execution_count": 1,
   "metadata": {},
   "outputs": [],
   "source": [
    "old_vocab_size  =30522\n",
    "additional_vocab=30000\n",
    "bert_dimension  =768\n",
    "input_model_path=\"\"     ## Sample: '/model_path/model_dir/bert_model.ckpt'\n",
    "out_dir=\"\"              ## Sample: '/model_path/model_out_dir/'\n"
   ]
  },
  {
   "cell_type": "markdown",
   "metadata": {},
   "source": [
    "## Expansion Code"
   ]
  },
  {
   "cell_type": "code",
   "execution_count": null,
   "metadata": {},
   "outputs": [],
   "source": [
    "new_vocab_size=old_vocab_size+additional_vocab\n",
    "checkpoint = {}\n",
    "with tf.compat.v1.Session() as sess:\n",
    "    saver = tf.train.import_meta_graph(input_model_path+'.meta')\n",
    "    saver.restore(sess, input_model_path)\n",
    "    print(len(tf.global_variables()))\n",
    "    for x in tf.global_variables():\n",
    "        print(str(x.name),x.eval().shape)\n",
    "        if(x.name=='bert/embeddings/word_embeddings:0'):\n",
    "            print(\"Changing bert/embeddings/word_embeddings:0\")\n",
    "            new_embed=np.random.rand(new_vocab_size,bert_dimension)\n",
    "            new_embed[:old_vocab_size,:]=x.eval()\n",
    "            sess.run(tf.assign(x,new_embed, validate_shape=False))\n",
    "        if(x.name=='cls/predictions/output_bias:0'):\n",
    "            print(\"Changing cls/predictions/output_bias:0 \")\n",
    "            new_bias=np.random.rand(new_vocab_size)\n",
    "            new_bias[:old_vocab_size]=x.eval()\n",
    "            sess.run(tf.assign(x,new_bias, validate_shape=False))\n",
    "\n",
    "        print(str(x.name),x.eval().shape)\n",
    "    saver.save(sess,out_dir+'/expanded_model.ckpt')    \n"
   ]
  }
 ],
 "metadata": {
  "kernelspec": {
   "display_name": "Python 3",
   "language": "python",
   "name": "python3"
  },
  "language_info": {
   "codemirror_mode": {
    "name": "ipython",
    "version": 3
   },
   "file_extension": ".py",
   "mimetype": "text/x-python",
   "name": "python",
   "nbconvert_exporter": "python",
   "pygments_lexer": "ipython3",
   "version": "3.7.9"
  }
 },
 "nbformat": 4,
 "nbformat_minor": 4
}
